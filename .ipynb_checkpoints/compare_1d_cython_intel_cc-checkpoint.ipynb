{
 "cells": [
  {
   "cell_type": "code",
   "execution_count": 1,
   "metadata": {},
   "outputs": [],
   "source": [
    "import numpy as np\n",
    "import matplotlib.pyplot as plt\n",
    "import numexpr as ne\n",
    "from xray_wave_propagators.propagators_1d import propTF,propIR,exact_prop_numba"
   ]
  },
  {
   "cell_type": "code",
   "execution_count": 2,
   "metadata": {},
   "outputs": [
    {
     "ename": "ModuleNotFoundError",
     "evalue": "No module named 'xwp_cython.prop1d_cython'",
     "output_type": "error",
     "traceback": [
      "\u001b[0;31m---------------------------------------------------------------------------\u001b[0m",
      "\u001b[0;31mModuleNotFoundError\u001b[0m                       Traceback (most recent call last)",
      "\u001b[0;32m<ipython-input-2-0a7da0b45b85>\u001b[0m in \u001b[0;36m<module>\u001b[0;34m()\u001b[0m\n\u001b[0;32m----> 1\u001b[0;31m \u001b[0;32mfrom\u001b[0m \u001b[0mxwp_cython\u001b[0m\u001b[0;34m.\u001b[0m\u001b[0mprop1d_cython\u001b[0m \u001b[0;32mimport\u001b[0m \u001b[0mexact_prop_1d\u001b[0m\u001b[0;34m\u001b[0m\u001b[0m\n\u001b[0m",
      "\u001b[0;31mModuleNotFoundError\u001b[0m: No module named 'xwp_cython.prop1d_cython'"
     ]
    }
   ],
   "source": [
    "from xwp_cython.prop1d_cython import exact_prop_1d"
   ]
  },
  {
   "cell_type": "code",
   "execution_count": null,
   "metadata": {},
   "outputs": [],
   "source": [
    "wavel = 0.5*10**(-6)\n",
    "pi = np.pi\n",
    "z = 100\n",
    "N = 1000\n",
    "L_in  = 5e-1\n",
    "\n",
    "in_domain_exact  = np.linspace(-L_in/2,L_in/2,N)\n",
    "in_wave = np.zeros(N)\n",
    "in_wave[int(N/2)-int(N/8):int(N/2)+int(N/8)] = 1\n",
    "\n",
    "sampling = in_domain_exact[1] - in_domain_exact[0]\n",
    "critical = (wavel*z/L_in)\n",
    "if sampling>critical:\n",
    "    print('Use TF')\n",
    "else :\n",
    "    print('Use IR')\n",
    "print('Fresnel Number :', (L_in**2)/(wavel*z))"
   ]
  },
  {
   "cell_type": "code",
   "execution_count": null,
   "metadata": {},
   "outputs": [],
   "source": [
    "out_,L_ = propIR(in_wave,L_in/N,L_in,wavel,z)\n",
    "out_domain_ = np.linspace(-L_/2,L_/2,N)"
   ]
  },
  {
   "cell_type": "code",
   "execution_count": null,
   "metadata": {},
   "outputs": [],
   "source": [
    "N = 5000\n",
    "in_domain_exact  = np.linspace(-L_in/2,L_in/2,N)\n",
    "in_wave = np.array(np.zeros(N),dtype='complex128')\n",
    "in_wave[int(N/2)-int(N/8):int(N/2)+int(N/8)] = 1\n",
    "out_wave_exact = np.zeros((N),dtype='complex128')\n",
    "out_domain_exact  = np.linspace(-L_/2,L_/2,N)\n",
    "\n",
    "exact_prop_cython(in_wave,out_wave_exact,L_in,L_,wavel,z)"
   ]
  },
  {
   "cell_type": "code",
   "execution_count": null,
   "metadata": {},
   "outputs": [],
   "source": [
    "f, (ax1,ax2,ax3) = plt.subplots(1,3)\n",
    "ax1.plot(in_domain_exact,np.abs(in_wave))\n",
    "ax1.set_xlabel('co-ordinates in m',fontsize = 15)\n",
    "ax1.set_title('Input', fontsize = 15)\n",
    "ax2.plot(out_domain_exact,np.abs(out_wave_exact),'b')\n",
    "ax2.set_xlabel('co-ordinates in m',fontsize = 15)\n",
    "ax2.set_title('Output Exact', fontsize = 15)\n",
    "ax3.plot(out_domain_,np.abs(out_),'g')\n",
    "ax3.set_xlabel('co-ordinates in m',fontsize = 15)\n",
    "ax3.set_title('Output IR', fontsize = 15)\n",
    "f.set_size_inches(20, 10, forward=True)\n",
    "f.suptitle('Fresnel Number : '+str((L_in**2)/(wavel*z)),fontsize = 25)\n",
    "plt.show()"
   ]
  },
  {
   "cell_type": "code",
   "execution_count": null,
   "metadata": {},
   "outputs": [],
   "source": [
    "%timeit exact_prop_cython(in_wave,out_wave_exact,L_in,L_,wavel,z)"
   ]
  },
  {
   "cell_type": "code",
   "execution_count": null,
   "metadata": {},
   "outputs": [],
   "source": [
    "%timeit exact_prop_numba(in_wave,out_wave_exact,L_in,L_,wavel,z)"
   ]
  },
  {
   "cell_type": "code",
   "execution_count": null,
   "metadata": {},
   "outputs": [],
   "source": []
  }
 ],
 "metadata": {
  "kernelspec": {
   "display_name": "Python 3",
   "language": "python",
   "name": "python3"
  },
  "language_info": {
   "codemirror_mode": {
    "name": "ipython",
    "version": 3
   },
   "file_extension": ".py",
   "mimetype": "text/x-python",
   "name": "python",
   "nbconvert_exporter": "python",
   "pygments_lexer": "ipython3",
   "version": "3.6.3"
  }
 },
 "nbformat": 4,
 "nbformat_minor": 2
}
