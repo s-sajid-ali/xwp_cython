{
 "cells": [
  {
   "cell_type": "code",
   "execution_count": 1,
   "metadata": {},
   "outputs": [],
   "source": [
    "import numpy as np\n",
    "import matplotlib.pyplot as plt\n",
    "import numexpr as ne\n",
    "from xwp.spectral_1d import propTF,propIR\n",
    "from xwp.exact_1d import exact_prop_numba"
   ]
  },
  {
   "cell_type": "code",
   "execution_count": 2,
   "metadata": {},
   "outputs": [],
   "source": [
    "from xwp_cython.prop1d import exact_prop_cython"
   ]
  },
  {
   "cell_type": "code",
   "execution_count": 3,
   "metadata": {},
   "outputs": [
    {
     "name": "stdout",
     "output_type": "stream",
     "text": [
      "Use TF\n",
      "Fresnel Number : 302419354838709.6\n"
     ]
    }
   ],
   "source": [
    "energy = 15000\n",
    "wavel = (1240/energy)*10**(-9)\n",
    "pi = np.pi\n",
    "L_in  = 5e-6\n",
    "z = 10e-6\n",
    "L_in  = 5e-1\n",
    "N_in  = 2500\n",
    "N_out = 2500\n",
    "N_in_exact = 25000\n",
    "\n",
    "in_domain_exact  = np.linspace(-L_in/2, L_in/2, N_in_exact)\n",
    "in_wave = np.array(np.zeros(N_in), dtype='complex128')\n",
    "in_wave[int(N_in/2)-int(N_in/8):int(N_in/2)+int(N_in/8)] = 1\n",
    "\n",
    "in_wave = np.zeros(N_in, dtype='complex128')\n",
    "in_wave[int(N_in/2)-int(N_in/8):int(N_in/2)+int(N_in/8)] = 1\n",
    "\n",
    "sampling = in_domain_exact[1] - in_domain_exact[0]\n",
    "critical = (wavel*z/L_in)\n",
    "if sampling>critical:\n",
    "    print('Use TF')\n",
    "else :\n",
    "    print('Use IR')\n",
    "print('Fresnel Number :', (L_in**2)/(wavel*z))\n",
    "\n",
    "out_,L_ = propTF(in_wave, L_in/N_in, L_in, wavel,z)\n",
    "out_domain_ = np.linspace(-L_/2,L_/2,N_out)\n",
    "\n",
    "out_wave_exact = np.zeros((N_out),dtype='complex128')\n",
    "out_domain_exact  = np.linspace(-L_/2,L_/2,N_out)"
   ]
  },
  {
   "cell_type": "code",
   "execution_count": 4,
   "metadata": {},
   "outputs": [
    {
     "name": "stdout",
     "output_type": "stream",
     "text": [
      "437 ms ± 9.23 ms per loop (mean ± std. dev. of 7 runs, 1 loop each)\n"
     ]
    }
   ],
   "source": [
    "%timeit exact_prop_cython(in_wave, out_wave_exact, L_in, L_, wavel, z)"
   ]
  },
  {
   "cell_type": "code",
   "execution_count": 5,
   "metadata": {},
   "outputs": [
    {
     "name": "stdout",
     "output_type": "stream",
     "text": [
      "61.9 ms ± 1.16 ms per loop (mean ± std. dev. of 7 runs, 1 loop each)\n"
     ]
    }
   ],
   "source": [
    "%timeit exact_prop_numba(in_wave, out_wave_exact, L_in, L_, wavel, z)"
   ]
  },
  {
   "cell_type": "code",
   "execution_count": null,
   "metadata": {},
   "outputs": [],
   "source": []
  },
  {
   "cell_type": "code",
   "execution_count": null,
   "metadata": {},
   "outputs": [],
   "source": []
  }
 ],
 "metadata": {
  "kernelspec": {
   "display_name": "Python 3",
   "language": "python",
   "name": "python3"
  },
  "language_info": {
   "codemirror_mode": {
    "name": "ipython",
    "version": 3
   },
   "file_extension": ".py",
   "mimetype": "text/x-python",
   "name": "python",
   "nbconvert_exporter": "python",
   "pygments_lexer": "ipython3",
   "version": "3.9.0"
  }
 },
 "nbformat": 4,
 "nbformat_minor": 4
}
